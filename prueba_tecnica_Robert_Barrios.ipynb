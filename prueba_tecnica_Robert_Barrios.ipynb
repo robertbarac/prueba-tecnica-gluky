{
 "cells": [
  {
   "cell_type": "markdown",
   "id": "5662ace8",
   "metadata": {},
   "source": [
    "# PRUEBA APRENDIZ INSIGHTS - Robert Barrios Acendra\n",
    "¡Hola Candidato a New Glüker!, Queremos compartirte un caso real y conocer qué harías para resolverlo efectivamente. \n",
    "1)\t**EJERCICIO DE PROGRAMACIÓN CON PYTHON**: \n",
    "Actualmente fábrica de sueños requiere automatizar su proceso de asignación de puntos de uno de sus programas, este está definido a partir de la siguiente manera:\n",
    "\n",
    "Entradas de la función: \n",
    "-\tCuota: valor numérico \n",
    "-\tVenta: valor numérico\n",
    "-\tProducto: Gomas y galletas\n",
    "-\tSegmento: Oro, Plata, Bronce\n",
    "\n",
    "Salida: Cantidad de puntos a otorgar\n",
    "\n",
    "Reglas de negocio de asignación de puntos (salida):\n",
    "-\t_Para asignar 234000 puntos_:\n",
    "    *\tLa venta ingresa debe ser superior a la cuota\n",
    "    \n",
    "    *\tEl producto deber ser Gomas\n",
    "    \n",
    "    *\tEl segmento debe ser oro \n",
    "    \n",
    "    *\tSi las ventas superan el 150% de la cuota, entregar 20.000 puntos más\n",
    "    \n",
    "    \n",
    "-\t_Para asignar 156000 puntos_:\n",
    "\n",
    "    *\tLa venta ingresa debe ser superior a la cuota\n",
    "    \n",
    "    *\tEl producto deber ser Galletas\n",
    "    \n",
    "    *\tEl segmento debe ser oro\n",
    "    \n",
    "    *\tSi las ventas superan el 150% de la cuota, entregar 30.000 puntos más\n",
    "    \n",
    "    \n",
    "-\t_Para asignar 120000 puntos_:\n",
    "\n",
    "    *\tLa venta ingresa debe ser superior a la cuota\n",
    "    \n",
    "    *\tEl producto deber ser Galletas\n",
    "    \n",
    "    *\tEl segmento debe ser Bronce\n",
    "    \n",
    "    \n",
    "-\t_Para asignar 1000 puntos_:\n",
    "\n",
    "    *\tLa venta ingresada debe ser inferior a la cuota\n",
    "    \n",
    "    *\tEl producto puede ser Gomas o Galletas\n",
    "    \n",
    "    *\tEl segmento debe ser plata\n",
    "    \n",
    "    \n",
    "-\t_Para el resto de casos no asignar puntos, pero mostrar un mensaje_:\n",
    "\n",
    "    “Debes realizar más ventas para que puedas obtener puntos”"
   ]
  },
  {
   "cell_type": "code",
   "execution_count": 1,
   "id": "f95b5438",
   "metadata": {},
   "outputs": [],
   "source": [
    "from typing import Optional"
   ]
  },
  {
   "cell_type": "code",
   "execution_count": 2,
   "id": "1779e944",
   "metadata": {},
   "outputs": [],
   "source": [
    "def asignadorDePuntos(cuota: float, venta: float, producto: str, segmento: str) -> Optional:\n",
    "    \n",
    "    if (venta > cuota) and (producto == \"Gomas\") and (segmento == \"Oro\"):\n",
    "        puntos_otorgados = 234000\n",
    "        if (venta / cuota * 100) > 150:\n",
    "            puntos_otorgados += 20000\n",
    "        \n",
    "    elif (venta > cuota) and (producto == \"Galletas\") and (segmento == \"Oro\"):\n",
    "        puntos_otorgados = 156000\n",
    "        if (venta / cuota * 100) > 150:\n",
    "            puntos_otorgados += 30000\n",
    "            \n",
    "    elif (venta > cuota) and (producto == \"Galletas\") and (segmento == \"Bronce\"):\n",
    "        puntos_otorgados = 120000 \n",
    "        \n",
    "    elif (venta < cuota) and (producto in [\"Galletas\", \"Gomas\"]) and (segmento == \"Plata\"):\n",
    "        puntos_otorgados = 1000 \n",
    "        \n",
    "    else:\n",
    "        return \"Debes realizar más ventas para que puedas obtener puntos\"\n",
    "    \n",
    "    return puntos_otorgados"
   ]
  },
  {
   "cell_type": "markdown",
   "id": "574a4490",
   "metadata": {},
   "source": [
    "2)\t**TEORÍA PYTHON**\n",
    "\n",
    "Marque la casilla o resalta la respuesta Correcta."
   ]
  },
  {
   "cell_type": "markdown",
   "id": "4cc83468",
   "metadata": {},
   "source": [
    "1. ¿Cuál es una sintaxis correcta para generar \"Hello World\" en Python?\n",
    "\n",
    "  a) echo(\"Hola Mundo\")\n",
    "  \n",
    "  b) print(\"Hola Mundo\")\t\n",
    "  \n",
    "  c) echo \"Hola Mundo\"\n",
    "  \n",
    "  d) p(\"Hola Mundo\")\n",
    " \n",
    "**Respuesta**: b) print(\"Hola Mundo\")"
   ]
  },
  {
   "cell_type": "markdown",
   "id": "6f051015",
   "metadata": {},
   "source": [
    "2. ¿Cómo se crea una variable con el valor numérico 5?\n",
    "\n",
    "  a) Ambas respuestas son correctas\n",
    "    \n",
    "  b) x = 5\n",
    "\n",
    "  c) x = int(5)\n",
    "  \n",
    "**Respuesta**: a) Ambas respuestas son correctas\n",
    "  \n",
    "**Nota**: regularmente se enseñan en los cursos de Python la opción b), tambipen la siguiente forma, donde se le asigna el tipo de dato a la variable en vez que el intérprete infiera el tipo de dato: `x:int = 5`. La opción c) es poco común para mí, en lo que he visto de Python, pero es válida."
   ]
  },
  {
   "cell_type": "markdown",
   "id": "e07b7f64",
   "metadata": {},
   "source": [
    "3. ¿Cuál es la forma correcta de crear una función en Python?\n",
    "\n",
    "    a) función myfunction():\n",
    "\n",
    "    b) def myFunction():\n",
    "\n",
    "    c) crear myFunction():\n",
    "\n",
    "**Respuesta**: b) def myFunction():"
   ]
  },
  {
   "cell_type": "markdown",
   "id": "ca6d29cf",
   "metadata": {},
   "source": [
    "4. En Python, 'Hello', es lo mismo que \"Hello\"\n",
    "\n",
    "    a) verdadero \n",
    "\n",
    "    b) falso\n",
    "\n",
    "**Respuesta**: a) verdadero\n",
    "\n",
    "Podemos mirarlo en la celda de abajo:"
   ]
  },
  {
   "cell_type": "code",
   "execution_count": 3,
   "id": "eb2c051c",
   "metadata": {},
   "outputs": [
    {
     "data": {
      "text/plain": [
       "True"
      ]
     },
     "execution_count": 3,
     "metadata": {},
     "output_type": "execute_result"
    }
   ],
   "source": [
    "'Hello' == \"Hello\""
   ]
  },
  {
   "cell_type": "markdown",
   "id": "d2a7f3af",
   "metadata": {},
   "source": [
    "5. ¿Qué método se puede utilizar para devolver una cadena en mayúsculas?\n",
    "\n",
    "    a) toUpperCase()\n",
    "\n",
    "    b) upper()\n",
    "\n",
    "    c) upperCase()\n",
    "\n",
    "    d) maycase()\n",
    "\n",
    "**Respuesta**: b) upper()"
   ]
  },
  {
   "cell_type": "markdown",
   "id": "2f94d826",
   "metadata": {},
   "source": [
    "6. ¿Qué operador se puede utilizar para comparar dos valores?\n",
    "\n",
    "    a) <>\n",
    "\n",
    "    b) ><\n",
    "\n",
    "    c) ==\n",
    "\n",
    "    d) =\n",
    "\n",
    "**Respuesta**: c) =="
   ]
  },
  {
   "cell_type": "markdown",
   "id": "97f834ee",
   "metadata": {},
   "source": [
    "7. ¿Cuál de estas colecciones define una LISTA?\n",
    "\n",
    "    a) {\"manzana\", \"plátano\", \"cereza\"} \n",
    "\n",
    "    b) [\"manzana\", \"plátano\", \"cereza\"]\n",
    "\n",
    "    c) {\"nombre\": \"manzana\", \"color\": \"verde\"}\n",
    "\n",
    "    d) (\"manzana\", \"plátano\", \"cereza\")\n",
    "\n",
    "**Respuesta**: b) [\"manzana\", \"plátano\", \"cereza\"] "
   ]
  },
  {
   "cell_type": "markdown",
   "id": "6c6f440c",
   "metadata": {},
   "source": [
    "8. ¿Cuál de estas colecciones define una TUPLA? \n",
    "\n",
    "    a) [\"manzana\", \"plátano\", \"cereza\"] \n",
    "\n",
    "    b) (\"manzana\", \"plátano\", \"cereza\")\n",
    "\n",
    "    c) {\"manzana\", \"plátano\", \"cereza\"}\n",
    "\n",
    "    d) {\"nombre\": \"manzana\", \"color\": \"verde\"}\n",
    "\n",
    "**Respuesta**: b) (\"manzana\", \"plátano\", \"cereza\")"
   ]
  },
  {
   "cell_type": "markdown",
   "id": "f128673d",
   "metadata": {},
   "source": [
    "9. ¿Cómo se empieza a escribir una instrucción if en Python?\n",
    "\n",
    "    a) if x > y:\n",
    "\n",
    "    b) if x > y then:\n",
    "\n",
    "    c) if (x > y)\n",
    "\n",
    "**Respuesta**: a) if x > y:"
   ]
  },
  {
   "cell_type": "markdown",
   "id": "14fbc8de",
   "metadata": {},
   "source": [
    "10. ¿Cómo se empieza a escribir un bucle for en Python?\n",
    "\n",
    "    a) for x > y:\n",
    "\n",
    "    b) for x in y:\n",
    "\n",
    "    c) for each x in y:\n",
    "\n",
    "**Respuesta**: b) for x in y:"
   ]
  },
  {
   "cell_type": "markdown",
   "id": "240c6b58",
   "metadata": {},
   "source": [
    "### 3) SINTAXIS\n",
    "\n",
    "En el correo que te enviamos encontrarás una base de datos en Excel llamada “base_de_datos_ventas.XLSX”. Sube la información a un motor de base de datos relacional (MySQL, SQL Server, PostgreSQL…), y realiza las siguientes consultas SQL:"
   ]
  },
  {
   "cell_type": "code",
   "execution_count": 4,
   "id": "13b20070",
   "metadata": {},
   "outputs": [],
   "source": [
    "import pandas as pd\n",
    "import sqlite3"
   ]
  },
  {
   "cell_type": "markdown",
   "id": "b26517a0",
   "metadata": {},
   "source": [
    "1. Procesar del archivo adjunto, las hojas: \"SKU's Estándar\", \"SKU's Especiales\", \"Ventas\"."
   ]
  },
  {
   "cell_type": "code",
   "execution_count": 5,
   "id": "dac5e4e7",
   "metadata": {},
   "outputs": [],
   "source": [
    "df_skus_estandar = pd.read_excel(\"Prueba Técnica (2) (3) (2).xlsx\", sheet_name=\"SKU's Estándar\")\n",
    "df_skus_especiales = pd.read_excel(\"Prueba Técnica (2) (3) (2).xlsx\", sheet_name=\"SKU's Especiales\")\n",
    "df_ventas = pd.read_excel(\"Prueba Técnica (2) (3) (2).xlsx\", sheet_name=\"Ventas\")"
   ]
  },
  {
   "cell_type": "code",
   "execution_count": 6,
   "id": "4f36a4b2",
   "metadata": {},
   "outputs": [
    {
     "name": "stdout",
     "output_type": "stream",
     "text": [
      "Index(['SKU', 'Descripcion'], dtype='object')\n",
      "Index(['SKU', 'Familia', 'Descripcion'], dtype='object')\n",
      "Index(['Año', 'Mes', 'Semana', 'Bodega', 'Usuario', 'SKU', 'Descripcion',\n",
      "       'Venta'],\n",
      "      dtype='object')\n"
     ]
    }
   ],
   "source": [
    "print(df_skus_estandar.columns)\n",
    "print(df_skus_especiales.columns)\n",
    "print(df_ventas.columns)"
   ]
  },
  {
   "cell_type": "code",
   "execution_count": 7,
   "id": "6301aa33",
   "metadata": {},
   "outputs": [
    {
     "data": {
      "text/plain": [
       "Año              0\n",
       "Mes              0\n",
       "Semana           0\n",
       "Bodega           0\n",
       "Usuario        366\n",
       "SKU              0\n",
       "Descripcion      0\n",
       "Venta            0\n",
       "dtype: int64"
      ]
     },
     "execution_count": 7,
     "metadata": {},
     "output_type": "execute_result"
    }
   ],
   "source": [
    "df_ventas.isnull().sum()"
   ]
  },
  {
   "cell_type": "code",
   "execution_count": 8,
   "id": "9eba0ff8",
   "metadata": {},
   "outputs": [],
   "source": [
    "from sqlalchemy import create_engine"
   ]
  },
  {
   "cell_type": "markdown",
   "id": "5151a76c",
   "metadata": {},
   "source": [
    "Viendo que hay valores nulos en la columna Usuario, voy a reemplazar esos datos nulos rápidamente por la palabra \"Desconocido\""
   ]
  },
  {
   "cell_type": "code",
   "execution_count": 9,
   "id": "31658108",
   "metadata": {},
   "outputs": [],
   "source": [
    "# Manejar los valores nulos en la columna Usuario\n",
    "df_ventas['Usuario'].fillna('Desconocido', inplace=True)"
   ]
  },
  {
   "cell_type": "markdown",
   "id": "0a8321eb",
   "metadata": {},
   "source": [
    "**Nota**: Creo que vale la pena aclarar que por cuestiones de que estoy usando el portátil de mi hermana :D (el mío le están reparando el cargador), me tocó trabajar con SQLite, estoy usando un portátil casi sin configuración de lenguajes y herramientas ni WSL y lastimosamente no tiene PostgreSQL ni MySQL instalados, que son los motores SQL que más conozco. Creo que para el propósito práctico de hacer las consultas, SQLite lo hace bien."
   ]
  },
  {
   "cell_type": "code",
   "execution_count": 10,
   "id": "99d4b6e8",
   "metadata": {},
   "outputs": [],
   "source": [
    "# Crear una conexión a la base de datos SQLite\n",
    "engine = create_engine('sqlite:///datos.db', echo=False)"
   ]
  },
  {
   "cell_type": "code",
   "execution_count": 11,
   "id": "bc8d068e",
   "metadata": {},
   "outputs": [
    {
     "data": {
      "text/plain": [
       "Engine(sqlite:///datos.db)"
      ]
     },
     "execution_count": 11,
     "metadata": {},
     "output_type": "execute_result"
    }
   ],
   "source": [
    "engine"
   ]
  },
  {
   "cell_type": "code",
   "execution_count": 12,
   "id": "7f848163",
   "metadata": {},
   "outputs": [
    {
     "name": "stdout",
     "output_type": "stream",
     "text": [
      "Datos cargados en la base de datos SQLite correctamente.\n"
     ]
    }
   ],
   "source": [
    "# Escribir los dataframes en la base de datos SQLite\n",
    "df_skus_estandar.to_sql('skus_estandar', engine, if_exists='replace', index=False)\n",
    "df_skus_especiales.to_sql('skus_especiales', engine, if_exists='replace', index=False)\n",
    "df_ventas.to_sql('ventas', engine, if_exists='replace', index=False)\n",
    "\n",
    "print(\"Datos cargados en la base de datos SQLite correctamente.\")"
   ]
  },
  {
   "cell_type": "code",
   "execution_count": 13,
   "id": "eccb5c69",
   "metadata": {},
   "outputs": [
    {
     "data": {
      "text/plain": [
       "-9986"
      ]
     },
     "execution_count": 13,
     "metadata": {},
     "output_type": "execute_result"
    }
   ],
   "source": [
    "df_ventas.Venta.min()"
   ]
  },
  {
   "cell_type": "code",
   "execution_count": 14,
   "id": "daaed4f5",
   "metadata": {},
   "outputs": [
    {
     "data": {
      "text/plain": [
       "(2199, 8)"
      ]
     },
     "execution_count": 14,
     "metadata": {},
     "output_type": "execute_result"
    }
   ],
   "source": [
    "df_ventas.shape"
   ]
  },
  {
   "cell_type": "code",
   "execution_count": 15,
   "id": "09d3741e",
   "metadata": {},
   "outputs": [
    {
     "data": {
      "text/plain": [
       "(201, 8)"
      ]
     },
     "execution_count": 15,
     "metadata": {},
     "output_type": "execute_result"
    }
   ],
   "source": [
    "df_ventas[df_ventas['Venta'] < 0].shape"
   ]
  },
  {
   "cell_type": "code",
   "execution_count": 16,
   "id": "9fae6e10",
   "metadata": {},
   "outputs": [
    {
     "data": {
      "text/plain": [
       "<AxesSubplot:>"
      ]
     },
     "execution_count": 16,
     "metadata": {},
     "output_type": "execute_result"
    },
    {
     "data": {
      "image/png": "[encoded data removed]",
      "text/plain": [
       "<Figure size 432x288 with 1 Axes>"
      ]
     },
     "metadata": {
      "needs_background": "light"
     },
     "output_type": "display_data"
    }
   ],
   "source": [
    "df_ventas[df_ventas['Venta'] < 0]['Venta'].plot()"
   ]
  },
  {
   "cell_type": "code",
   "execution_count": 17,
   "id": "327f617a",
   "metadata": {},
   "outputs": [
    {
     "data": {
      "text/plain": [
       "<AxesSubplot:>"
      ]
     },
     "execution_count": 17,
     "metadata": {},
     "output_type": "execute_result"
    },
    {
     "data": {
      "image/png": "[encoded data removed]",
      "text/plain": [
       "<Figure size 432x288 with 1 Axes>"
      ]
     },
     "metadata": {
      "needs_background": "light"
     },
     "output_type": "display_data"
    }
   ],
   "source": [
    "df_ventas[df_ventas['Venta'] > 0]['Venta'].plot()"
   ]
  },
  {
   "cell_type": "markdown",
   "id": "859d0fa2",
   "metadata": {},
   "source": [
    "Como se puede ver, hay cosas dentro de los datos que me inquietan un poco, como estas ventas de valor negativo, tal vez tienen un significado de negocio. Lástima que dispongo de poco tiempo, me enfocaré en elaborar las consultas, aunque los resultados de ellas puedan estar afectados por situaciones que hay dentro de la data."
   ]
  },
  {
   "cell_type": "markdown",
   "id": "c3ab1abe",
   "metadata": {},
   "source": [
    "\n",
    "**Nota**: Noté que los códigos SKU de la tabla sku_especiales aparecen todos en la tabla sku_estandar, y esto no debe ser, se supone que son cosas separadas. Primero eliminamos "
   ]
  },
  {
   "cell_type": "markdown",
   "id": "fac041ef",
   "metadata": {},
   "source": [
    "![Texto alternativo](consultas_sql/consulta1_eliminar.PNG)"
   ]
  },
  {
   "cell_type": "markdown",
   "id": "107829af",
   "metadata": {},
   "source": [
    "2. Por mes, indicar la cantidad de ventas (en $ y %)."
   ]
  },
  {
   "cell_type": "markdown",
   "id": "60bb3c54",
   "metadata": {},
   "source": [
    "![Texto alternativo](consultas_sql/consulta2.PNG)"
   ]
  },
  {
   "cell_type": "markdown",
   "id": "87d2118d",
   "metadata": {},
   "source": [
    "![Texto alternativo](consultas_sql/resultado2.PNG)"
   ]
  },
  {
   "cell_type": "markdown",
   "id": "f6d44a0f",
   "metadata": {},
   "source": [
    "3. Por mes, indicar la cantidad de ventas (en $ y %) de SKU’s Estándar y Especiales."
   ]
  },
  {
   "cell_type": "markdown",
   "id": "647423b2",
   "metadata": {},
   "source": [
    "Aquí noté que debía escoger también los SKU que no estaban en las tablas estándar ni de especiales, así sí cuadran las cuentas con el total de los 3 meses de ventas de la consulta 2."
   ]
  },
  {
   "cell_type": "markdown",
   "id": "7a30b4dd",
   "metadata": {},
   "source": [
    "![Texto alternativo](consultas_sql/consulta3.PNG)"
   ]
  },
  {
   "cell_type": "markdown",
   "id": "ddce2084",
   "metadata": {},
   "source": [
    "![Texto alternativo](consultas_sql/resultado3.PNG)"
   ]
  },
  {
   "cell_type": "markdown",
   "id": "37092826",
   "metadata": {},
   "source": [
    "4. Indicar la cantidad de ventas totales (en $ y %) de SKU’s Estándar y Especiales."
   ]
  },
  {
   "cell_type": "markdown",
   "id": "1b9402cc",
   "metadata": {},
   "source": [
    "![Texto alternativo](consultas_sql/consulta4.PNG)"
   ]
  },
  {
   "cell_type": "markdown",
   "id": "5db461c7",
   "metadata": {},
   "source": [
    "![Texto alternativo](consultas_sql/resultado4.PNG)"
   ]
  },
  {
   "cell_type": "markdown",
   "id": "fcfc614c",
   "metadata": {},
   "source": [
    "Y junto con las que no son ni estándar ni especiales..."
   ]
  },
  {
   "cell_type": "markdown",
   "id": "6214f066",
   "metadata": {},
   "source": [
    "![Texto alternativo](consultas_sql/consulta4b.PNG)"
   ]
  },
  {
   "cell_type": "markdown",
   "id": "6fb9240b",
   "metadata": {},
   "source": [
    "![Texto alternativo](consultas_sql/resultado4b.PNG)"
   ]
  },
  {
   "cell_type": "markdown",
   "id": "4bd5cf82",
   "metadata": {},
   "source": [
    "5. Indicar la cantidad de ventas totales (en $ y %) por Bodega."
   ]
  },
  {
   "cell_type": "markdown",
   "id": "bf1635bd",
   "metadata": {},
   "source": [
    "![Texto alternativo](consultas_sql/consulta5.PNG)"
   ]
  },
  {
   "cell_type": "markdown",
   "id": "ca09d6a3",
   "metadata": {},
   "source": [
    "![Texto alternativo](consultas_sql/resultado5.PNG)"
   ]
  },
  {
   "cell_type": "markdown",
   "id": "5db99dee",
   "metadata": {},
   "source": [
    "6. Indicar la cantidad de ventas totales (en $ y %) por Semana."
   ]
  },
  {
   "cell_type": "markdown",
   "id": "5c46936d",
   "metadata": {},
   "source": [
    "Primero lo planteé como por semana y mes..."
   ]
  },
  {
   "cell_type": "markdown",
   "id": "fbb4142e",
   "metadata": {},
   "source": [
    "![Texto alternativo](consultas_sql/consulta6.PNG)"
   ]
  },
  {
   "cell_type": "markdown",
   "id": "74fe8364",
   "metadata": {},
   "source": [
    "![Texto alternativo](consultas_sql/resultado6.PNG)"
   ]
  },
  {
   "cell_type": "markdown",
   "id": "d26caf3f",
   "metadata": {},
   "source": [
    "Luego solo siendo estricto con la interpretación, aplicando solo por semana..."
   ]
  },
  {
   "cell_type": "markdown",
   "id": "770236f7",
   "metadata": {},
   "source": [
    "![Texto alternativo](consultas_sql/consulta6b.PNG)"
   ]
  },
  {
   "cell_type": "markdown",
   "id": "d426dc69",
   "metadata": {},
   "source": [
    "![Texto alternativo](consultas_sql/resultado6b.PNG)"
   ]
  },
  {
   "cell_type": "markdown",
   "id": "d8757d38",
   "metadata": {},
   "source": [
    "7. Hacer un Top 10 de Usuarios con mayor venta."
   ]
  },
  {
   "cell_type": "markdown",
   "id": "06a356cf",
   "metadata": {},
   "source": [
    "![Texto alternativo](consultas_sql/consulta7.PNG)"
   ]
  },
  {
   "cell_type": "markdown",
   "id": "6d12ba35",
   "metadata": {},
   "source": [
    "![Texto alternativo](consultas_sql/resultado7.PNG)"
   ]
  },
  {
   "cell_type": "markdown",
   "id": "eaebee49",
   "metadata": {},
   "source": [
    "8. Hacer un Top 10 de SKU’s Estándar con mayor venta."
   ]
  },
  {
   "cell_type": "markdown",
   "id": "a00c7384",
   "metadata": {},
   "source": [
    "![Texto alternativo](consultas_sql/consulta8.PNG)"
   ]
  },
  {
   "cell_type": "markdown",
   "id": "d9de7c44",
   "metadata": {},
   "source": [
    "![Texto alternativo](consultas_sql/resultado8.PNG)"
   ]
  },
  {
   "cell_type": "markdown",
   "id": "ebf529f2",
   "metadata": {},
   "source": [
    "9. Hacer un Top 10 de SKU’s Especiales con mayor venta."
   ]
  },
  {
   "cell_type": "markdown",
   "id": "d15adf7b",
   "metadata": {},
   "source": [
    "![Texto alternativo](consultas_sql/consulta9.PNG)"
   ]
  },
  {
   "cell_type": "markdown",
   "id": "843bf0c5",
   "metadata": {},
   "source": [
    "![Texto alternativo](consultas_sql/resultado9.PNG)"
   ]
  },
  {
   "cell_type": "markdown",
   "id": "e0912ea5",
   "metadata": {},
   "source": [
    "### 4) AZURE\n",
    "\n",
    "1. ¿Qué es Azure? (En sus propias palabras)"
   ]
  },
  {
   "cell_type": "markdown",
   "id": "d11e712a",
   "metadata": {},
   "source": [
    "Es una plataforma que ofrece servicios de computación en la nube. Se puede alojar proyectos web, bases de datos, proyectos de datos en general (Data Engineering, Machine Learning).\n",
    "\n",
    "Es esencial saber fundamentos de Linux y computación en la nube para controlar esos computadores de la nube desde nuestro computador personal o de trabajo."
   ]
  },
  {
   "cell_type": "markdown",
   "id": "ee95482e",
   "metadata": {},
   "source": [
    "2. ¿Qué otros servicios en la nube conoce?\n",
    "\n",
    "El más popular (porque salió primero) es Amazon Web Services, también conocido como AWS. También está Google Cloud Platform (GCP). Son los 3 más populares. Hay más, pero ahora mismo se me escapan los nombres."
   ]
  },
  {
   "cell_type": "markdown",
   "id": "6999ca5b",
   "metadata": {},
   "source": [
    "#### Agradecimientos y anotaciones.\n",
    "\n",
    "La prueba estuvo muy entretenida, la disfruté, podía disfrutarla más si hubiera tenido disponible el portátil con el que suelo trabajar, para haber usado PostgreSQL o MySQL, pero igual estuvo interesante."
   ]
  },
  {
   "cell_type": "code",
   "execution_count": null,
   "id": "bca20aa1",
   "metadata": {},
   "outputs": [],
   "source": []
  }
 ],
 "metadata": {
  "kernelspec": {
   "display_name": "Python 3 (ipykernel)",
   "language": "python",
   "name": "python3"
  },
  "language_info": {
   "codemirror_mode": {
    "name": "ipython",
    "version": 3
   },
   "file_extension": ".py",
   "mimetype": "text/x-python",
   "name": "python",
   "nbconvert_exporter": "python",
   "pygments_lexer": "ipython3",
   "version": "3.9.12"
  }
 },
 "nbformat": 4,
 "nbformat_minor": 5
}
